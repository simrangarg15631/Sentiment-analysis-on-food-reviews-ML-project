{
 "cells": [
  {
   "cell_type": "code",
   "execution_count": null,
   "metadata": {},
   "outputs": [],
   "source": [
    "import pickle"
   ]
  },
  {
   "cell_type": "markdown",
   "metadata": {},
   "source": [
    "### Load saved model"
   ]
  },
  {
   "cell_type": "code",
   "execution_count": null,
   "metadata": {},
   "outputs": [],
   "source": [
    "f = open(\"review_model.pkl\",\"rb\")\n",
    "model = pickle.load(f)\n",
    "model"
   ]
  },
  {
   "cell_type": "code",
   "execution_count": null,
   "metadata": {},
   "outputs": [],
   "source": [
    "cv = pickle.load(open(\"cv.pkl\",\"rb\"))\n",
    "cv"
   ]
  },
  {
   "cell_type": "code",
   "execution_count": null,
   "metadata": {},
   "outputs": [],
   "source": [
    "print(cv.get_feature_names()[:5])"
   ]
  },
  {
   "cell_type": "markdown",
   "metadata": {},
   "source": [
    "### Create Tkinter GUI for Sentiment Analysis"
   ]
  },
  {
   "cell_type": "code",
   "execution_count": null,
   "metadata": {},
   "outputs": [],
   "source": [
    "from tkinter import *\n",
    "from tkinter import messagebox\n",
    "\n",
    "\n",
    "main = Tk()\n",
    "main.title(\"SENTIMENT ANALYSIS USING MACHINE LEARNING\")\n",
    "\n",
    "main.resizable(0,0)\n",
    "\n",
    "main.config(bg=\"white\")\n",
    "\n",
    "lbl = Label(main,text=\"FOOD REVIEWS\", fg=\"orange\",bg=\"white\", font=(\"Impact\",22))\n",
    "lbl.pack(side='top', fill='x')\n",
    "\n",
    "lbl = Label(main,text=\"Please tell us your experience!!\", fg=\"black\",bg='white', font=(\"Impact\",12))\n",
    "lbl.pack()\n",
    "\n",
    "rev = Text(main)\n",
    "rev.pack(pady=0)\n",
    "\n",
    "def get_result():\n",
    "    review = rev.get(\"1.0\",END)\n",
    "    converted = cv.transform([review]) # 1x1763\n",
    "    p = model.predict(converted)[0]\n",
    "    label = {0:\"Customer is not satisfied 😑\", 1:\"Customer is satisfied 😊\"}\n",
    "    \n",
    "    lbl1.config(text=label[p])\n",
    "    messagebox.showinfo(\"Result\", label[p])\n",
    "\n",
    "#     print(label[p])\n",
    "\n",
    "lbl1 = Label(main, fg=\"green\", bg=\"white\", font=(\"Impact\",12))\n",
    "lbl1.pack()\n",
    "btn = Button(main, bg=\"orange\", fg=\"white\", text=\"Submit\",command=get_result)\n",
    "btn.pack(fill='x',ipady=3, pady=3,side='bottom')\n",
    "\n",
    "\n",
    "main.mainloop()"
   ]
  },
  {
   "cell_type": "code",
   "execution_count": null,
   "metadata": {},
   "outputs": [],
   "source": []
  },
  {
   "cell_type": "code",
   "execution_count": null,
   "metadata": {},
   "outputs": [],
   "source": []
  }
 ],
 "metadata": {
  "interpreter": {
   "hash": "07966df8c4cc09e23d291e48a162c2dcea1303f0e4e38e09a9f99c34507351e0"
  },
  "kernelspec": {
   "display_name": "Python 3",
   "language": "python",
   "name": "python3"
  },
  "language_info": {
   "codemirror_mode": {
    "name": "ipython",
    "version": 3
   },
   "file_extension": ".py",
   "mimetype": "text/x-python",
   "name": "python",
   "nbconvert_exporter": "python",
   "pygments_lexer": "ipython3",
   "version": "3.8.3"
  }
 },
 "nbformat": 4,
 "nbformat_minor": 4
}
